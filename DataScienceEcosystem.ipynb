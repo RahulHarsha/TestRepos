{
 "cells": [
  {
   "cell_type": "markdown",
   "id": "570d8445-3921-449f-8b9e-c9ff316496c9",
   "metadata": {
    "tags": []
   },
   "source": [
    "# Data Science tools and Ecosystem"
   ]
  },
  {
   "cell_type": "markdown",
   "id": "1b50b1ac-4099-4f95-a6e7-469bef25942e",
   "metadata": {},
   "source": [
    "In this notebook, Data Science Tools and Ecosystem are summarized."
   ]
  },
  {
   "cell_type": "markdown",
   "id": "5cd8986b-b2a6-43bc-968d-f06543bccb59",
   "metadata": {
    "tags": []
   },
   "source": [
    " **Objectives:**\n",
    "- List popular Data Science Languages\n",
    "- List Commonly used Data science Libraries\n",
    "- Tabulate Open Source Tools used in Data Science\n",
    "- Evaluate Basic arithmetic expression\n",
    "- Convert given minute Quantity into Hour"
   ]
  },
  {
   "cell_type": "markdown",
   "id": "b3e91dc4-3a2b-4bf5-b300-5f0256d1df54",
   "metadata": {
    "tags": []
   },
   "source": [
    "**Some of the popular languages that Data Scientists use are:**\n",
    "1. Python\n",
    "2. R\n",
    "3. SQL\n",
    "4. Java\n",
    "5. Julia"
   ]
  },
  {
   "cell_type": "markdown",
   "id": "a6048ca0-79e6-475d-9fd3-1fdd008750b4",
   "metadata": {},
   "source": [
    "**Some of the commonly used libraries used by Data Scientists include:**\n",
    "1. Matplotlib\n",
    "2. NumPy\n",
    "3. Pandas\n",
    "4. TensorFlow\n",
    "5. SciPy"
   ]
  },
  {
   "cell_type": "markdown",
   "id": "1b35a051-8bc5-418f-a3bf-c60719b23522",
   "metadata": {
    "tags": []
   },
   "source": [
    "**Some Development environment open source tools used in data science.**\n",
    "| Data Science Tools |\n",
    "|--------------------|\n",
    "|RStudio|\n",
    "|Apache Spark|\n",
    "|Jupyter Notebooks|\n"
   ]
  },
  {
   "cell_type": "markdown",
   "id": "14c6a853-5efb-468b-a6e9-53b0b472989e",
   "metadata": {},
   "source": [
    "### Below are a few examples of evaluating arithmetic expressions in Python"
   ]
  },
  {
   "cell_type": "code",
   "execution_count": 31,
   "id": "25b930c2-9125-42c2-b467-cc0980f9c2f0",
   "metadata": {
    "tags": []
   },
   "outputs": [
    {
     "data": {
      "text/plain": [
       "17"
      ]
     },
     "execution_count": 31,
     "metadata": {},
     "output_type": "execute_result"
    }
   ],
   "source": [
    "# This a simple arithmetic expression to mutiply then add integers\n",
    "(3*4)+5"
   ]
  },
  {
   "cell_type": "code",
   "execution_count": 37,
   "id": "1671d139-c213-43f3-a861-4534628a5b56",
   "metadata": {
    "tags": []
   },
   "outputs": [
    {
     "data": {
      "text/plain": [
       "3.3333333333333335"
      ]
     },
     "execution_count": 37,
     "metadata": {},
     "output_type": "execute_result"
    }
   ],
   "source": [
    "# This will convert 200 minutes to hours by diving by 60\n",
    "\n",
    "minutes = 200\n",
    "hours = minutes/60\n",
    "hours\n"
   ]
  },
  {
   "cell_type": "markdown",
   "id": "18fe5b0b-6389-4b54-ac8b-f702e7e3455c",
   "metadata": {},
   "source": [
    "## Author\n",
    "Eeda Rahul Harsha Reddy"
   ]
  }
 ],
 "metadata": {
  "kernelspec": {
   "display_name": "Python 3 (ipykernel)",
   "language": "python",
   "name": "python3"
  },
  "language_info": {
   "codemirror_mode": {
    "name": "ipython",
    "version": 3
   },
   "file_extension": ".py",
   "mimetype": "text/x-python",
   "name": "python",
   "nbconvert_exporter": "python",
   "pygments_lexer": "ipython3",
   "version": "3.11.7"
  }
 },
 "nbformat": 4,
 "nbformat_minor": 5
}
